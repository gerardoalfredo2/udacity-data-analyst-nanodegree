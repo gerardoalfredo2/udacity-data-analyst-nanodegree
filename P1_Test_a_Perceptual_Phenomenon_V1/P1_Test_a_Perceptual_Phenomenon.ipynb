{
 "cells": [
  {
   "cell_type": "raw",
   "metadata": {},
   "source": [
    "<script>\n",
    "  function code_toggle() {\n",
    "    if (code_shown){\n",
    "      $('div.input').hide('500');\n",
    "      $('#toggleButton').val('Show Code')\n",
    "    } else {\n",
    "      $('div.input').show('500');\n",
    "      $('#toggleButton').val('Hide Code')\n",
    "    }\n",
    "    code_shown = !code_shown\n",
    "  }\n",
    "\n",
    "  $( document ).ready(function(){\n",
    "    code_shown=false;\n",
    "    $('div.input').hide()\n",
    "  });\n",
    "</script>\n",
    "<form action=\"javascript:code_toggle()\"><input type=\"submit\" id=\"toggleButton\" value=\"Show Code\"></form>"
   ]
  },
  {
   "cell_type": "markdown",
   "metadata": {
    "slideshow": {
     "slide_type": "fragment"
    }
   },
   "source": [
    "###### Student: Gerardo Alfredo Alarcon Rivas"
   ]
  },
  {
   "cell_type": "markdown",
   "metadata": {
    "slideshow": {
     "slide_type": "slide"
    }
   },
   "source": [
    "# Project 1: Test a Perceptual Phenomenon"
   ]
  },
  {
   "cell_type": "raw",
   "metadata": {
    "slideshow": {
     "slide_type": "subslide"
    }
   },
   "source": [
    "In psychology, the Stroop effect is a demonstration of interference in the reaction time of a task. When the name of a color (e.g., \"blue\", \"green\", or \"red\") is printed in a color that is not denoted by the name (e.g., the word \"red\" printed in blue ink instead of red ink), naming the color of the word takes longer and is more prone to errors than when the color of the ink matches the name of the color. The effect is named after John Ridley Stroop, who first published the effect in English in 1935.[1] The effect had previously been published in Germany in 1929.[2][3][4] The original paper has been one of the most cited papers in the history of experimental psychology, leading to more than 701 replications.[4] The effect has been used to create a psychological test (Stroop test) that is widely used in clinical practice and investigation."
   ]
  },
  {
   "cell_type": "markdown",
   "metadata": {
    "slideshow": {
     "slide_type": "slide"
    }
   },
   "source": [
    "#### 1. What is our independent variable? What is our dependent variable?\n",
    "\n",
    "\n",
    "\n",
    "\n"
   ]
  },
  {
   "cell_type": "raw",
   "metadata": {
    "slideshow": {
     "slide_type": "subslide"
    }
   },
   "source": [
    "-Dependent variable: Time to name the font color.\n",
    "-Independent: is weather the name match the color or the color not match the name."
   ]
  },
  {
   "cell_type": "markdown",
   "metadata": {
    "slideshow": {
     "slide_type": "fragment"
    }
   },
   "source": [
    "#### 2. What is an appropriate set of hypotheses for this task? What kind of statistical test do you expect to perform? Justify your choices\n",
    "\n",
    "\n",
    "\n",
    "\n"
   ]
  },
  {
   "cell_type": "raw",
   "metadata": {},
   "source": [
    "Hypothesis test\n",
    "\n",
    "H0(Null Hypothesis):  μC = μI\n",
    "\n",
    "-Mean time to name colours is the same for congruent and incongruent tasks.\n",
    "\n",
    "HA(Alternate Hypothesis):μC ≠ μI \n",
    "\n",
    "-Mean time to name colours is not the same for congruent and incongruent tasks.\n",
    "\n",
    "Where μ is a population mean, the subscript \"C\" represents the congruent words condition, and the subscript \"I\" represents the incongruent words condition\n",
    "\n",
    "We can use a two-sided paired student T-test to test the hypotesis due  we don´t know the population standard deviation, our sample is below 30 and also we are evaluating the difference between the means of μC and μI to know if the mean time of incongruent tasks vs congruent tasks are the same."
   ]
  },
  {
   "cell_type": "markdown",
   "metadata": {},
   "source": [
    "#### 3. Report some descriptive statistics regarding this dataset. Include at least one measure of central tendency and at least one measure of variability.\n",
    "\n",
    "\n",
    "\n",
    "\n"
   ]
  },
  {
   "cell_type": "code",
   "execution_count": 15,
   "metadata": {
    "collapsed": false
   },
   "outputs": [
    {
     "name": "stdout",
     "output_type": "stream",
     "text": [
      "      Congruent  Incongruent\n",
      "mean  14.051125    22.015917\n",
      "std    3.559358     4.797057\n"
     ]
    }
   ],
   "source": [
    "import pandas as pd\n",
    "import numpy as np\n",
    "df= pd.read_csv(\"C:\\\\Users\\\\GerardoAlfredo\\\\Documents\\\\Trainings\\\\Udacity\\\\Data Analyst\\\\P1\\\\udacity-data-analyst-nanodegree\\\\P1_Test_a_Perceptual_Phenomenon_V1\\\\stroopdata.csv\")\n",
    "df.head()\n",
    "R=df.describe()\n",
    "print(R[1:3])"
   ]
  },
  {
   "cell_type": "markdown",
   "metadata": {},
   "source": [
    "#### 4. Provide one or two visualizations that show the distribution of the sample data. Write one or two sentences noting what you observe about the plot or plots.\n",
    "\n",
    "\n",
    "\n",
    "\n"
   ]
  },
  {
   "cell_type": "code",
   "execution_count": 16,
   "metadata": {
    "collapsed": false
   },
   "outputs": [
    {
     "data": {
      "image/png": "[encoded data removed]",
      "text/plain": [
       "<matplotlib.figure.Figure at 0x20204c96b38>"
      ]
     },
     "metadata": {
      "image/png": {
       "height": 263,
       "width": 370
      }
     },
     "output_type": "display_data"
    }
   ],
   "source": [
    "%matplotlib inline\n",
    "%config InlineBackend.figure_format = 'retina'\n",
    "import matplotlib\n",
    "\n",
    "df.plot.box(title='Completion Times',showmeans=True);"
   ]
  },
  {
   "cell_type": "code",
   "execution_count": 85,
   "metadata": {
    "collapsed": false
   },
   "outputs": [
    {
     "data": {
      "image/png": "[encoded data removed]",
      "text/plain": [
       "<matplotlib.figure.Figure at 0x25207422cc0>"
      ]
     },
     "metadata": {},
     "output_type": "display_data"
    }
   ],
   "source": [
    "df.plot(title='Completion Times',kind='bar');"
   ]
  },
  {
   "cell_type": "raw",
   "metadata": {},
   "source": [
    "-Congruent answer are completed faster than incongruent answers."
   ]
  },
  {
   "cell_type": "markdown",
   "metadata": {},
   "source": [
    "#### 5. What is your confidence level and your critical statistic value? Do you reject the null hypothesis or fail to reject it? Come to a conclusion in terms of the experiment task. Did the results match up with your expectations?.\n",
    "\n",
    "\n",
    "\n",
    "\n"
   ]
  },
  {
   "cell_type": "raw",
   "metadata": {},
   "source": [
    "df: 23\n",
    "µD: -7.9648\n",
    "S: 4.86482691\n",
    "t-stat: -8.020706944\n",
    "at α 0.05 \n",
    "t-critical: +-2.06865761\n",
    "P: 4.103E-08\n",
    "95% CI: (-25.3527231, 9.42314)"
   ]
  },
  {
   "cell_type": "raw",
   "metadata": {},
   "source": [
    "The Null hypothesis is rejected due At α 0.05 the time needed to name the colors is different between congruent answer and the incongruent answer. \n",
    "The participants of the experiment don't name the colors at the same speed when the answer is congruent than when are incongruent. "
   ]
  },
  {
   "cell_type": "markdown",
   "metadata": {},
   "source": [
    "#### 6. Optional: What do you think is responsible for the effects observed? Can you think of an alternative or similar task that would result in a similar effect? Some research about the problem will be helpful for thinking about these two questions!\n",
    "\n",
    "\n",
    "\n"
   ]
  },
  {
   "cell_type": "raw",
   "metadata": {},
   "source": [
    "Following the studies about the experiment looks like the confusion produce more time to think about the answers in the experiments due the brain take more time to match the meaning of the word with the visual information of the eyes respecting to the color due to the speed of processing between the eyes and the brain. \n",
    "I was thinking of a similar effect with the alcohol and the speed, the alcohol affects different parts of the brain, in this example the affected region is the Cerebral cortex who is in charge of processing and consciousness, we can see a similar effect than in the Stroop effect but in this case affected by a chemical change in our body, the alcohol depresses the behavioral inhibitory centers, making the person less inhibited; it slows down the processing of information from the eyes, ears, mouth and other senses; and it inhibits the thought processes, making it difficult to think clearly. So we can see that the effects are similar to the experiment, we loose the speed of processing of our senses and that is the reason that when the people is drunk have this feeling like if the world is slower."
   ]
  },
  {
   "cell_type": "markdown",
   "metadata": {
    "collapsed": true
   },
   "source": [
    "References:\n",
    "\n",
    "https://en.wikipedia.org/wiki/Stroop_effect\n",
    "\n",
    "http://hamelg.blogspot.com/2015/11/python-for-data-analysis-part-24.html\n",
    "\n",
    "http://pandas.pydata.org/pandas-docs/version/0.18.1/visualization.html"
   ]
  }
 ],
 "metadata": {
  "anaconda-cloud": {},
  "celltoolbar": "Slideshow",
  "kernelspec": {
   "display_name": "Python 3",
   "language": "python",
   "name": "python3"
  },
  "language_info": {
   "codemirror_mode": {
    "name": "ipython",
    "version": 3
   },
   "file_extension": ".py",
   "mimetype": "text/x-python",
   "name": "python",
   "nbconvert_exporter": "python",
   "pygments_lexer": "ipython3",
   "version": "3.6.0"
  }
 },
 "nbformat": 4,
 "nbformat_minor": 1
}
